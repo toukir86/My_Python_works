{
  "nbformat": 4,
  "nbformat_minor": 0,
  "metadata": {
    "colab": {
      "provenance": []
    },
    "kernelspec": {
      "name": "python3",
      "display_name": "Python 3"
    },
    "language_info": {
      "name": "python"
    }
  },
  "cells": [
    {
      "cell_type": "code",
      "source": [
        "from pprint import PrettyPrinter\n",
        "\n",
        "import pandas as pd\n",
        "from IPython.display import VimeoVideo\n",
        "from pymongo import MongoClient"
      ],
      "metadata": {
        "id": "X0CTSWs472v4"
      },
      "execution_count": null,
      "outputs": []
    },
    {
      "cell_type": "code",
      "execution_count": null,
      "metadata": {
        "id": "AiUQvaYx7qg3"
      },
      "outputs": [],
      "source": [
        "###############Full code for exporting data MongoDB to Python\n",
        "\n",
        "\n",
        "pp = PrettyPrinter(indent=2)\n",
        "\n",
        "\n",
        "##Connecting Daatabase network\n",
        "client = MongoClient(host= \"localhost\", port= 27017)\n",
        "\n",
        "#Check number of databases\n",
        "pp.pprint(list(client.list_databases()))\n",
        "\n",
        "#select databases\n",
        "db = client[\"air-quality\"]\n",
        "\n",
        "#check tables in the databases\n",
        "for c in db.list_collections():\n",
        "    print(c[\"name\"])\n",
        "\n",
        "#select the table\n",
        "nairobi = db[\"nairobi\"]\n",
        "\n",
        "#Check different attributes of the table\n",
        "result = nairobi.find_one({})\n",
        "pp.pprint(result)\n",
        "\n",
        "print(\"Documents from site 6:\", nairobi.count_documents({\"metadata.site\": 6}))\n",
        "print(\"Documents from site 29:\", nairobi.count_documents({\"metadata.site\": 29}))\n",
        "\n",
        "nairobi.distinct(\"metadata.measurement\")\n",
        "\n",
        "\n",
        "#Check number of observation based on attributes\n",
        "result = nairobi.aggregate(\n",
        "   [\n",
        "       {\"$match\": {\"metadata.site\": 6}},\n",
        "       {\"$group\": {\"_id\":\"$metadata.measurement\",\"count\": {\"$count\": {}}}}\n",
        "   ]\n",
        "\n",
        ")\n",
        "pp.pprint(list(result))\n",
        "\n",
        "\n",
        "\n",
        "result = nairobi.aggregate(\n",
        "   [\n",
        "       {\"$match\": {\"metadata.site\": 29}},\n",
        "       {\"$group\": {\"_id\":\"$metadata.measurement\",\"count\": {\"$count\": {}}}}\n",
        "   ]\n",
        "\n",
        ")\n",
        "pp.pprint(list(result))\n",
        "\n",
        "#Choose the appropiate attribute for using as dataset\n",
        "result = nairobi.find(\n",
        "    {\"metadata.site\": 29, \"metadata.measurement\": \"P2\"},\n",
        "    projection= {\"P2\": 1, \"timestamp\": 1, \"_id\":0}\n",
        "\n",
        "\n",
        ")\n",
        "pp.pprint(result.next())\n",
        "\n",
        "\n",
        "\n",
        "#Import as a dataset\n",
        "df = pd.DataFrame(result).set_index(\"timestamp\")\n",
        "df.head()"
      ]
    },
    {
      "cell_type": "markdown",
      "source": [],
      "metadata": {
        "id": "dpPleOOY7xOA"
      }
    }
  ]
}